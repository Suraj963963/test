{
 "cells": [
  {
   "cell_type": "markdown",
   "id": "bb9790aa",
   "metadata": {},
   "source": [
    "# Headline"
   ]
  },
  {
   "cell_type": "markdown",
   "id": "d50c5a84",
   "metadata": {},
   "source": [
    "## practice day 1"
   ]
  },
  {
   "cell_type": "code",
   "execution_count": 14,
   "id": "704aa2b3",
   "metadata": {},
   "outputs": [
    {
     "data": {
      "text/plain": [
       "50"
      ]
     },
     "execution_count": 14,
     "metadata": {},
     "output_type": "execute_result"
    }
   ],
   "source": [
    "x=5\n",
    "x*10"
   ]
  },
  {
   "cell_type": "code",
   "execution_count": 13,
   "id": "e4b23427",
   "metadata": {},
   "outputs": [
    {
     "data": {
      "text/plain": [
       "36"
      ]
     },
     "execution_count": 13,
     "metadata": {},
     "output_type": "execute_result"
    }
   ],
   "source": [
    "X*6"
   ]
  },
  {
   "cell_type": "code",
   "execution_count": 7,
   "id": "8c9e8070",
   "metadata": {},
   "outputs": [
    {
     "data": {
      "text/plain": [
       "25"
      ]
     },
     "execution_count": 7,
     "metadata": {},
     "output_type": "execute_result"
    }
   ],
   "source": [
    "x = 5\n",
    "x*5"
   ]
  },
  {
   "cell_type": "code",
   "execution_count": 8,
   "id": "4d5233d7",
   "metadata": {},
   "outputs": [
    {
     "data": {
      "text/plain": [
       "50"
      ]
     },
     "execution_count": 8,
     "metadata": {},
     "output_type": "execute_result"
    }
   ],
   "source": [
    "y=10\n",
    "x=5\n",
    "x*y\n"
   ]
  },
  {
   "cell_type": "code",
   "execution_count": 10,
   "id": "4283b7b3",
   "metadata": {},
   "outputs": [
    {
     "data": {
      "text/plain": [
       "60"
      ]
     },
     "execution_count": 10,
     "metadata": {},
     "output_type": "execute_result"
    }
   ],
   "source": [
    "x=5\n",
    "y=4\n",
    "z=3\n",
    "x*y*z"
   ]
  },
  {
   "cell_type": "code",
   "execution_count": 15,
   "id": "e7769363",
   "metadata": {},
   "outputs": [
    {
     "data": {
      "text/plain": [
       "5.0"
      ]
     },
     "execution_count": 15,
     "metadata": {},
     "output_type": "execute_result"
    }
   ],
   "source": [
    "50/10"
   ]
  },
  {
   "cell_type": "code",
   "execution_count": 16,
   "id": "3c287279",
   "metadata": {},
   "outputs": [
    {
     "data": {
      "text/plain": [
       "10.0"
      ]
     },
     "execution_count": 16,
     "metadata": {},
     "output_type": "execute_result"
    }
   ],
   "source": [
    "(10/2)+(20/4)"
   ]
  },
  {
   "cell_type": "code",
   "execution_count": null,
   "id": "4957855b",
   "metadata": {},
   "outputs": [],
   "source": []
  }
 ],
 "metadata": {
  "kernelspec": {
   "display_name": "Python 3 (ipykernel)",
   "language": "python",
   "name": "python3"
  },
  "language_info": {
   "codemirror_mode": {
    "name": "ipython",
    "version": 3
   },
   "file_extension": ".py",
   "mimetype": "text/x-python",
   "name": "python",
   "nbconvert_exporter": "python",
   "pygments_lexer": "ipython3",
   "version": "3.9.12"
  }
 },
 "nbformat": 4,
 "nbformat_minor": 5
}
